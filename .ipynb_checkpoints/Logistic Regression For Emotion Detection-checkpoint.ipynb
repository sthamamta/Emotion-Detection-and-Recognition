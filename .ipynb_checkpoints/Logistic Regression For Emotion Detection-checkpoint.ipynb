{
 "cells": [
  {
   "cell_type": "code",
   "execution_count": 1,
   "id": "3fd9c837",
   "metadata": {},
   "outputs": [],
   "source": [
    "#imports\n",
    "import pandas as pd\n",
    "import numpy as np\n",
    "import matplotlib.pyplot as plt\n",
    "import seaborn as sns\n",
    "\n",
    "%matplotlib inline\n",
    "\n",
    "import warnings\n",
    "warnings.filterwarnings('ignore')"
   ]
  },
  {
   "cell_type": "code",
   "execution_count": 2,
   "id": "5b39be06",
   "metadata": {},
   "outputs": [],
   "source": [
    "df_original = pd.read_csv('dataset/ISEAR.csv')\n",
    "df_original.to_csv(\"dataset/comments.csv\", header=[\"Index\", \"Sentiment\", \"Comment\"], index = False)"
   ]
  },
  {
   "cell_type": "code",
   "execution_count": 3,
   "id": "749ce2d4",
   "metadata": {},
   "outputs": [],
   "source": [
    "df_comments =  pd.read_csv('dataset/comments.csv')"
   ]
  },
  {
   "cell_type": "code",
   "execution_count": 4,
   "id": "81788e01",
   "metadata": {},
   "outputs": [
    {
     "data": {
      "text/plain": [
       "(7445, 3)"
      ]
     },
     "execution_count": 4,
     "metadata": {},
     "output_type": "execute_result"
    }
   ],
   "source": [
    "df_comments.shape"
   ]
  },
  {
   "cell_type": "code",
   "execution_count": 5,
   "id": "bfb782de",
   "metadata": {},
   "outputs": [
    {
     "data": {
      "text/html": [
       "<div>\n",
       "<style scoped>\n",
       "    .dataframe tbody tr th:only-of-type {\n",
       "        vertical-align: middle;\n",
       "    }\n",
       "\n",
       "    .dataframe tbody tr th {\n",
       "        vertical-align: top;\n",
       "    }\n",
       "\n",
       "    .dataframe thead th {\n",
       "        text-align: right;\n",
       "    }\n",
       "</style>\n",
       "<table border=\"1\" class=\"dataframe\">\n",
       "  <thead>\n",
       "    <tr style=\"text-align: right;\">\n",
       "      <th></th>\n",
       "      <th>Sentiment</th>\n",
       "      <th>Comment</th>\n",
       "    </tr>\n",
       "  </thead>\n",
       "  <tbody>\n",
       "    <tr>\n",
       "      <th>0</th>\n",
       "      <td>fear</td>\n",
       "      <td>Every time I imagine that someone I love or I could contact a  \\nserious illness, even death.</td>\n",
       "    </tr>\n",
       "    <tr>\n",
       "      <th>1</th>\n",
       "      <td>anger</td>\n",
       "      <td>When I had been obviously unjustly treated and had no possibility  \\nof elucidating this.</td>\n",
       "    </tr>\n",
       "    <tr>\n",
       "      <th>2</th>\n",
       "      <td>sadness</td>\n",
       "      <td>When I think about the short time that we live and relate it to  \\nthe periods of my life when I think that I did not use this  \\nshort time.</td>\n",
       "    </tr>\n",
       "    <tr>\n",
       "      <th>3</th>\n",
       "      <td>disgust</td>\n",
       "      <td>At a gathering I found myself involuntarily sitting next to two  \\npeople who expressed opinions that I considered very low and  \\ndiscriminating.</td>\n",
       "    </tr>\n",
       "    <tr>\n",
       "      <th>4</th>\n",
       "      <td>shame</td>\n",
       "      <td>When I realized that I was directing the feelings of discontent  \\nwith myself at my partner and this way was trying to put the blame  \\non him instead of sorting out my own feeliings.</td>\n",
       "    </tr>\n",
       "  </tbody>\n",
       "</table>\n",
       "</div>"
      ],
      "text/plain": [
       "  Sentiment  \\\n",
       "0  fear       \n",
       "1  anger      \n",
       "2  sadness    \n",
       "3  disgust    \n",
       "4  shame      \n",
       "\n",
       "                                                                                                                                                                                    Comment  \n",
       "0  Every time I imagine that someone I love or I could contact a  \\nserious illness, even death.                                                                                             \n",
       "1  When I had been obviously unjustly treated and had no possibility  \\nof elucidating this.                                                                                                 \n",
       "2  When I think about the short time that we live and relate it to  \\nthe periods of my life when I think that I did not use this  \\nshort time.                                             \n",
       "3  At a gathering I found myself involuntarily sitting next to two  \\npeople who expressed opinions that I considered very low and  \\ndiscriminating.                                        \n",
       "4  When I realized that I was directing the feelings of discontent  \\nwith myself at my partner and this way was trying to put the blame  \\non him instead of sorting out my own feeliings.  "
      ]
     },
     "execution_count": 5,
     "metadata": {},
     "output_type": "execute_result"
    }
   ],
   "source": [
    "#expanding the dispay of text column\n",
    "pd.set_option('display.max_colwidth', -1)\n",
    "\n",
    "#using only Sentiment and Comment\n",
    "df_comments = df_comments [['Sentiment','Comment']]\n",
    "df_comments.head()"
   ]
  },
  {
   "cell_type": "code",
   "execution_count": 6,
   "id": "226f4a0f",
   "metadata": {},
   "outputs": [
    {
     "data": {
      "image/png": "[encoded data removed]",
      "text/plain": [
       "<Figure size 432x288 with 1 Axes>"
      ]
     },
     "metadata": {
      "needs_background": "light"
     },
     "output_type": "display_data"
    }
   ],
   "source": [
    "df_comments['Sentiment'].value_counts().plot.bar()\n",
    "plt.xlabel('Sentiment Type')\n",
    "plt.ylabel('Count')\n",
    "plt.title('barplot for Sentiment Type')\n",
    "plt.show()"
   ]
  },
  {
   "cell_type": "markdown",
   "id": "61ff5728",
   "metadata": {},
   "source": [
    "the dataset is balanced"
   ]
  },
  {
   "cell_type": "code",
   "execution_count": 7,
   "id": "47ac04db",
   "metadata": {},
   "outputs": [
    {
     "name": "stderr",
     "output_type": "stream",
     "text": [
      "[nltk_data] Downloading package stopwords to /home/mamata/nltk_data...\n",
      "[nltk_data]   Package stopwords is already up-to-date!\n"
     ]
    }
   ],
   "source": [
    "import re\n",
    "import nltk\n",
    "from nltk.corpus import stopwords\n",
    "import string\n",
    "string.punctuation\n",
    "\n",
    "\n",
    "from nltk.tokenize import RegexpTokenizer\n",
    "from nltk.stem import WordNetLemmatizer,PorterStemmer\n",
    "\n",
    "nltk.download('stopwords')\n",
    "\n",
    "stop_words = set(stopwords.words('english'))"
   ]
  },
  {
   "cell_type": "code",
   "execution_count": 8,
   "id": "69aeea5e",
   "metadata": {},
   "outputs": [],
   "source": [
    "#text preprocessing\n",
    "\n",
    "lemmatizer = WordNetLemmatizer()\n",
    "stemmer = PorterStemmer() \n",
    "\n",
    "def preprocess_text(text,remove_stop_words=True, lemmatize_words=True):\n",
    "    text = str(text)\n",
    "    text = text.lower()\n",
    "\n",
    "    # Clean the text\n",
    "    text = re.sub(r\"[^A-Za-z0-9^,!.\\/'+-=]\", \" \", text)\n",
    "    text = re.sub(r\"what's\", \"what is \", text)\n",
    "    text = re.sub(r\"\\'s\", \" \", text)\n",
    "    text = re.sub(r\"\\'ve\", \" have \", text)\n",
    "    text = re.sub(r\"can't\", \"cannot \", text)\n",
    "    text = re.sub(r\"n't\", \" not \", text)\n",
    "    text = re.sub(r\"i'm\", \"i am \", text)\n",
    "    text = re.sub(r\"\\'re\", \" are \", text)\n",
    "    text = re.sub(r\"\\'d\", \" would \", text)\n",
    "    text = re.sub(r\"\\'ll\", \" will \", text)\n",
    "    text = re.sub(r\",\", \" \", text)\n",
    "    text = re.sub(r\"\\.\", \" \", text)\n",
    "    text = re.sub(r\"!\", \" \", text)\n",
    "    text = re.sub(r\"\\/\", \" \", text)\n",
    "    text = re.sub(r\"\\^\", \" \", text)\n",
    "    text = re.sub(r\"\\+\", \" \", text)\n",
    "    text = re.sub(r\"\\-\", \" \", text)\n",
    "    text = re.sub(r\"\\=\", \" \", text)\n",
    "    text = re.sub(r\"'\", \" \", text)\n",
    "    text = re.sub(r\"(\\d+)(k)\", r\"\\g<1>000\", text)\n",
    "    text = re.sub(r\":\", \" : \", text)\n",
    "    text = re.sub(r\" e g \", \" eg \", text)\n",
    "    text = re.sub(r\" b g \", \" bg \", text)\n",
    "    text = re.sub(r\" u s \", \" american \", text)\n",
    "    text = re.sub(r\"\\0s\", \"0\", text)\n",
    "    text = re.sub(\" \\d+\", \" \", text)\n",
    "    text = re.sub(r\"e - mail\", \"email\", text)\n",
    "    text = re.sub(r\"j k\", \"jk\", text)\n",
    "    text = re.sub(r\"\\s{2,}\", \" \", text)\n",
    "    text = text.replace(\"\\n\", \" \")\n",
    "    text = \"\".join([i for i in text if i not in string.punctuation])\n",
    "    \n",
    "     # Optionally, remove stop words\n",
    "    if remove_stop_words:\n",
    "        text = text.split()\n",
    "        text = [w for w in text if not w in stop_words]\n",
    "        text = \" \".join(text)\n",
    "    \n",
    "#     Optionally, shorten words to their stems\n",
    "    if lemmatize_words:\n",
    "        text = text.split()\n",
    "        stem_text = [stemmer.stem(w) for w in text]\n",
    "#         lemmatized_words = [lemmatizer.lemmatize(word) for word in stem_text]\n",
    "        text = \" \".join(stem_text)\n",
    "\n",
    "\n",
    "    return text"
   ]
  },
  {
   "cell_type": "code",
   "execution_count": 9,
   "id": "38300298",
   "metadata": {},
   "outputs": [],
   "source": [
    "df_comments['clean_comment']= df_comments['Comment'].apply(lambda x:preprocess_text(x))"
   ]
  },
  {
   "cell_type": "code",
   "execution_count": 10,
   "id": "d8f2535e",
   "metadata": {},
   "outputs": [],
   "source": [
    "#split features and target from train data \n",
    "X = df_comments[\"clean_comment\"]\n",
    "y = df_comments[\"Sentiment\"]"
   ]
  },
  {
   "cell_type": "code",
   "execution_count": 11,
   "id": "82e2757c",
   "metadata": {},
   "outputs": [],
   "source": [
    "#imports\n",
    "\n",
    "from sklearn.model_selection import train_test_split\n",
    "from sklearn.pipeline import Pipeline\n",
    "\n",
    "from sklearn.metrics import (\n",
    "    accuracy_score,\n",
    "    classification_report,\n",
    "    plot_confusion_matrix,\n",
    ")\n",
    "from sklearn.feature_extraction.text import TfidfVectorizer, CountVectorizer\n",
    "\n",
    "\n",
    "from nltk.tokenize import word_tokenize\n",
    "from sklearn.linear_model import LogisticRegression\n",
    "from sklearn.preprocessing import LabelEncoder"
   ]
  },
  {
   "cell_type": "code",
   "execution_count": 12,
   "id": "a1e4d58c",
   "metadata": {},
   "outputs": [
    {
     "name": "stdout",
     "output_type": "stream",
     "text": [
      "(5956,)\n",
      "(1489,)\n"
     ]
    }
   ],
   "source": [
    "\n",
    "# split data into train and validate\n",
    "X_train, X_test, y_train, y_test = train_test_split(X,y,test_size=0.2,random_state=42,shuffle=True,stratify=y)\n",
    "print(X_train.shape)\n",
    "print(X_test.shape)"
   ]
  },
  {
   "cell_type": "code",
   "execution_count": 13,
   "id": "cb081541",
   "metadata": {},
   "outputs": [],
   "source": [
    "# Encode for string target labels\n",
    "label_encoder = LabelEncoder().fit(y_train)\n",
    "y_train = label_encoder.transform(y_train)\n",
    "y_test = label_encoder.transform(y_test)"
   ]
  },
  {
   "cell_type": "code",
   "execution_count": null,
   "id": "b79ab311",
   "metadata": {},
   "outputs": [],
   "source": []
  },
  {
   "cell_type": "markdown",
   "id": "1614c060",
   "metadata": {},
   "source": [
    "# parameter tuning for tfidf vectorization"
   ]
  },
  {
   "cell_type": "markdown",
   "id": "3ab963dd",
   "metadata": {},
   "source": [
    "# for n gram"
   ]
  },
  {
   "cell_type": "code",
   "execution_count": null,
   "id": "5f3ca6b8",
   "metadata": {},
   "outputs": [],
   "source": [
    "from sklearn.model_selection import cross_val_score\n",
    "\n",
    "\n",
    "lr = LogisticRegression(random_state=1)\n",
    "\n",
    "def count_vec_ngram(params, X_train, y_train):\n",
    "    cvec_p = TfidfVectorizer(ngram_range=(params)) \n",
    "\n",
    "    cvec_p.fit(X_train)\n",
    "    X_train_cvec_p = cvec_p.transform(X_train)\n",
    "\n",
    "    # cross val score/ predict\n",
    "    cvec_score_p = cross_val_score(lr, X_train_cvec_p, y_train, cv=3)\n",
    "\n",
    "    # cross validation \n",
    "    return cvec_score_p.mean()\n",
    "\n",
    "params = [(1,1), (1,2),(1,3), (1,4)] \n",
    "ngram_scores = []\n",
    "for p in params:\n",
    "    ngram_scores.append(count_vec_ngram(p, X_train, y_train))\n",
    "    \n",
    "ngrams = ['cvec gram_1','cvec gram_2','cvec gram_3','cvec gram_4']\n",
    "ngram_df = pd.DataFrame({'params':ngrams, 'scores':ngram_scores}, index=[0,1,2,3])\n",
    "\n",
    "\n",
    "# plot scores on graph\n",
    "sns.pointplot(x='params', y='scores', data = ngram_df)\n",
    "plt.ylabel('Accuracy Score')\n",
    "plt.xlabel('ngrams')\n",
    "plt.xticks(rotation=40)\n",
    "plt.title('Accuracy of ngram range')\n",
    "plt.show()\n"
   ]
  },
  {
   "cell_type": "markdown",
   "id": "5f9250c4",
   "metadata": {},
   "source": [
    "# for max feature"
   ]
  },
  {
   "cell_type": "code",
   "execution_count": null,
   "id": "8274b0ab",
   "metadata": {},
   "outputs": [],
   "source": [
    "def count_vec_max_features(params, X_train, y_train):\n",
    "    \n",
    "    cvec_p = TfidfVectorizer(max_features=(params)) \n",
    "\n",
    "    cvec_p.fit(X_train)\n",
    "    X_train_cvec_p = cvec_p.transform(X_train)\n",
    "\n",
    "    # cross val score/ predict\n",
    "    cvec_score_p = cross_val_score(lr, X_train_cvec_p, y_train, cv=3)\n",
    "\n",
    "    # cross validation \n",
    "    return cvec_score_p.mean()\n",
    "\n",
    "mf_params = [None, 500, 1000, 5000, 10000]\n",
    "max_features_scores = [count_vec_max_features(p, X_train, y_train) for p in mf_params]\n",
    "max_features = ['max_f_'+str(p) for p in mf_params]\n",
    "\n",
    "# dataframe for scores\n",
    "max_features_df = pd.DataFrame({'params':max_features, 'scores':max_features_scores}, index=[0,1,2,3,4])\n",
    "\n",
    "sns.pointplot(x='params', y='scores', data =max_features_df)\n",
    "plt.ylabel('Accuracy Score')\n",
    "plt.xlabel('Max Features')\n",
    "plt.xticks(rotation=40)\n",
    "plt.title('Accuracy of Max Features')\n",
    "plt.show()"
   ]
  },
  {
   "cell_type": "markdown",
   "id": "9339fb6e",
   "metadata": {},
   "source": [
    "# for max_df"
   ]
  },
  {
   "cell_type": "code",
   "execution_count": null,
   "id": "6c052f32",
   "metadata": {},
   "outputs": [],
   "source": [
    "def count_vec_max_df(params, X_train, y_train):\n",
    "    cvec_p = TfidfVectorizer(max_df=params) \n",
    "\n",
    "    cvec_p.fit(X_train)\n",
    "    X_train_cvec_p = cvec_p.transform(X_train)\n",
    "\n",
    "    # cross val score/ predict\n",
    "    cvec_score_p = cross_val_score(lr, X_train_cvec_p, y_train, cv=3)\n",
    "\n",
    "    # cross validation \n",
    "    return cvec_score_p.mean()\n",
    "\n",
    "mdf_params = [0.25, 0.5, 0.75, 1.0]\n",
    "max_df_scores = [count_vec_max_df(p, X_train, y_train) for p in mdf_params]\n",
    "max_df = ['max_df_'+str(p) for p in mdf_params]\n",
    "\n",
    "# dataframe for scores\n",
    "max_df_df = pd.DataFrame({'params':max_df, 'scores':max_df_scores}, index=[0,1,2,3])\n",
    "\n",
    "sns.pointplot(x='params', y='scores', data =max_df_df)\n",
    "plt.ylabel('Accuracy Score')\n",
    "plt.xlabel('max_df')\n",
    "plt.xticks(rotation=40)\n",
    "plt.title('Accuracy of Max df')\n",
    "plt.show()"
   ]
  },
  {
   "cell_type": "markdown",
   "id": "43a07b5a",
   "metadata": {},
   "source": [
    "# for min_df"
   ]
  },
  {
   "cell_type": "code",
   "execution_count": null,
   "id": "ab023f97",
   "metadata": {},
   "outputs": [],
   "source": [
    "def count_vec_min_df(params, X_train, y_train):\n",
    "    \n",
    "    cvec_p = TfidfVectorizer(min_df=params) \n",
    "\n",
    "    cvec_p.fit(X_train)\n",
    "    X_train_cvec_p = cvec_p.transform(X_train)\n",
    "\n",
    "    # cross val score/ predict\n",
    "    cvec_score_p = cross_val_score(lr, X_train_cvec_p, y_train, cv=3)\n",
    "\n",
    "    # cross validation \n",
    "    return cvec_score_p.mean()\n",
    "\n",
    "mdf_params = [10,5,25,50,70]\n",
    "min_df_scores = [count_vec_min_df(p, X_train, y_train) for p in mdf_params]\n",
    "min_df = ['min_df_'+str(p) for p in mdf_params]\n",
    "\n",
    "# dataframe for scores\n",
    "min_df_df = pd.DataFrame({'params':min_df, 'scores':min_df_scores}, index=[0,1,2,3,4])\n",
    "\n",
    "sns.pointplot(x='params', y='scores', data =min_df_df)\n",
    "plt.ylabel('Accuracy Score')\n",
    "plt.xlabel('max_df')\n",
    "plt.xticks(rotation=40)\n",
    "plt.title('Accuracy of Max df')\n",
    "plt.show()"
   ]
  },
  {
   "cell_type": "code",
   "execution_count": null,
   "id": "3539c7f5",
   "metadata": {},
   "outputs": [],
   "source": [
    "# Transform features with tfidf using params from fine tuning above\n",
    "\n",
    "tfvec_p = TfidfVectorizer(ngram_range=(1,2),max_features=10000,max_df=0.9,min_df=5)\n",
    "\n",
    "tfvec_p.fit(X_train)\n",
    "\n",
    "X_train_tfvec_p = tfvec_p.transform(X_train)\n",
    "X_test_tfvec_p = tfvec_p.transform(X_test)"
   ]
  },
  {
   "cell_type": "code",
   "execution_count": null,
   "id": "d5459690",
   "metadata": {},
   "outputs": [],
   "source": [
    "#saving the idf values \n",
    "\n",
    "import pickle\n",
    "pickle.dump(tfvec_p, open(\"features/features.pkl\", \"wb\"))"
   ]
  },
  {
   "cell_type": "markdown",
   "id": "f40995d6",
   "metadata": {},
   "source": [
    "# Visualization "
   ]
  },
  {
   "cell_type": "code",
   "execution_count": null,
   "id": "978cc3ca",
   "metadata": {},
   "outputs": [],
   "source": [
    "idf = tfvec_p.idf_\n",
    "rr = dict(zip(tfvec_p.get_feature_names(), idf))\n",
    "\n",
    "token_weight = pd.DataFrame.from_dict(rr, orient='index').reset_index()\n",
    "token_weight.columns=('token','weight')\n",
    "token_weight = token_weight.sort_values(by='weight', ascending=False)\n",
    "token_weight \n",
    "token_weight_sample = token_weight.sample(n=12)\n",
    "\n",
    "sns.barplot(x='token', y='weight', data=token_weight_sample)            \n",
    "plt.title(\"Inverse Document Frequency(idf) per token\")\n",
    "fig=plt.gcf()\n",
    "fig.set_size_inches(10,5)\n",
    "plt.xticks(rotation=40)\n",
    "plt.show()"
   ]
  },
  {
   "cell_type": "code",
   "execution_count": null,
   "id": "b1295476",
   "metadata": {},
   "outputs": [],
   "source": [
    "# get feature names\n",
    "feature_names = np.array(tfvec_p.get_feature_names())\n",
    "sorted_by_idf = np.argsort(tfvec_p.idf_)\n",
    "print(\"Features with lowest idf:\\n{}\".format(\n",
    "       feature_names[sorted_by_idf[:3]]))\n",
    "print(\"\\nFeatures with highest idf:\\n{}\".format(\n",
    "       feature_names[sorted_by_idf[-3:]]))"
   ]
  },
  {
   "cell_type": "code",
   "execution_count": null,
   "id": "355a2b3f",
   "metadata": {},
   "outputs": [],
   "source": [
    "\n",
    "# find maximum value for each of the features over all of dataset:\n",
    "max_val = X_train_tfvec_p.max(axis=0).toarray().ravel()\n",
    "\n",
    "#sort weights from smallest to biggest and extract their indices \n",
    "sort_by_tfidf = max_val.argsort()\n",
    "\n",
    "print(\"Features with lowest tfidf:\\n{}\".format(\n",
    "      feature_names[sort_by_tfidf[:3]]))\n",
    "\n",
    "print(\"\\nFeatures with highest tfidf: \\n{}\".format(\n",
    "      feature_names[sort_by_tfidf[-3:]]))"
   ]
  },
  {
   "cell_type": "code",
   "execution_count": null,
   "id": "8a141fea",
   "metadata": {},
   "outputs": [],
   "source": [
    "from wordcloud import WordCloud, STOPWORDS\n",
    "\n",
    "def cloud(data,backgroundcolor = 'white', width = 800, height = 600):\n",
    "    wordcloud = WordCloud(stopwords = STOPWORDS, background_color = backgroundcolor,\n",
    "                         width = width, height = height).generate(data)\n",
    "    plt.figure(figsize = (15, 10))\n",
    "    plt.imshow(wordcloud)\n",
    "    plt.axis(\"off\")\n",
    "    plt.show()\n",
    "\n",
    "cloud(' '.join(df_comments['clean_comment']))"
   ]
  },
  {
   "cell_type": "code",
   "execution_count": null,
   "id": "6333954f",
   "metadata": {},
   "outputs": [],
   "source": []
  },
  {
   "cell_type": "markdown",
   "id": "f4d34855",
   "metadata": {},
   "source": [
    "# Grid Search on Logistic Regression"
   ]
  },
  {
   "cell_type": "code",
   "execution_count": null,
   "id": "ec57a619",
   "metadata": {},
   "outputs": [],
   "source": [
    "from sklearn.model_selection import GridSearchCV, StratifiedKFold, learning_curve\n",
    "\n",
    "lr_params = {'penalty': ['l1','l2'],\n",
    "          'solver':['liblinear'],\n",
    "          'C': np.logspace(-10,10,21)}\n",
    "\n",
    "# Define the gridsearchCV\n",
    "lr_grid = GridSearchCV(lr, param_grid = lr_params, cv=3, n_jobs=-1, verbose=1)\n",
    "\n",
    "# fit with the tranformed sparse matrix\n",
    "lr_grid.fit(X_train_tfvec_p, y_train)\n",
    "\n",
    "print ('Best Score:', lr_grid.best_score_)\n",
    "\n",
    "\n",
    "# assign the best estimator to a variable\n",
    "best_lr = lr_grid.best_estimator_\n",
    "print ('Best Params:', lr_grid.best_params_)"
   ]
  },
  {
   "cell_type": "code",
   "execution_count": null,
   "id": "a55b9cdb",
   "metadata": {},
   "outputs": [],
   "source": [
    "# test model performance on test data \n",
    "y_predscv= best_lr.predict(X_test_tfvec_p)\n",
    "accuracy_score(y_test,y_predscv)"
   ]
  },
  {
   "cell_type": "code",
   "execution_count": null,
   "id": "fa891d26",
   "metadata": {},
   "outputs": [],
   "source": [
    "# plot the comfusion matrix\n",
    "plot_confusion_matrix(best_lr, X_test_tfvec_p, y_test, normalize='true')\n",
    "plt.show()"
   ]
  },
  {
   "cell_type": "code",
   "execution_count": null,
   "id": "a89dcb11",
   "metadata": {},
   "outputs": [],
   "source": [
    "from sklearn.metrics import classification_report, confusion_matrix, accuracy_score\n",
    " \n",
    "# print(confusion_matrix(y_test,predictions))  \n",
    "print(classification_report(y_test,y_predscv))  \n",
    "print(accuracy_score(y_test, y_predscv))"
   ]
  },
  {
   "cell_type": "code",
   "execution_count": null,
   "id": "fd41ee22",
   "metadata": {},
   "outputs": [],
   "source": [
    "#saving the model\n",
    "#save model \n",
    "import joblib \n",
    "\n",
    "joblib.dump(best_lr, 'model/sentiment_model.pkl')"
   ]
  },
  {
   "cell_type": "markdown",
   "id": "4d92c77d",
   "metadata": {},
   "source": [
    "# Visualization"
   ]
  },
  {
   "cell_type": "code",
   "execution_count": null,
   "id": "38bc5705",
   "metadata": {},
   "outputs": [],
   "source": [
    "def print_top10(vectorizer, clf, class_labels):\n",
    "    \"\"\"Prints features with the highest coefficient values, per class\"\"\"\n",
    "    feature_names = vectorizer.get_feature_names()\n",
    "    \n",
    "    \n",
    "    for i, class_label in enumerate(class_labels):\n",
    "#         output the original index of the top 10 coef\n",
    "        top10 = np.argsort(clf.coef_[i])[-10:]\n",
    "\n",
    "        print(\"%s: %s\" % (class_label,\n",
    "              \", \".join(feature_names[j] for j in top10)))"
   ]
  },
  {
   "cell_type": "code",
   "execution_count": null,
   "id": "3c2d0c62",
   "metadata": {},
   "outputs": [],
   "source": [
    "feature_df = pd.DataFrame()\n",
    "feature_names = tfvec_p.get_feature_names()\n",
    "sentiments_class = {0: \"Joy\", 1: \"Sadness\",2: \"Anger\",3:\"Fear\",4:\"Shame\",5:\"Disgust\",6:\"Guilt\"}\n",
    "\n",
    "for i, class_label in enumerate([0,1,2,3,4,5,6]):\n",
    "\n",
    "    index = np.argsort(best_lr.coef_[i])\n",
    "    \n",
    "    feature_df['feature_names'] = [feature_names[j] for j in index]\n",
    "    \n",
    "    class_ = best_lr.coef_[i]\n",
    "    \n",
    "    feature_df[sentiments_class[i]] = np.abs(class_)\n",
    "        \n",
    "feature_df.head(10)"
   ]
  },
  {
   "cell_type": "code",
   "execution_count": null,
   "id": "c4d2b668",
   "metadata": {},
   "outputs": [],
   "source": [
    "joy_abs_10 = feature_df.sort_values('Joy', ascending=False).head(10)\n",
    "sadness_abs_10 = feature_df.sort_values('Sadness', ascending=False).head(10)\n",
    "anger_abs_10 = feature_df.sort_values('Anger', ascending=False).head(10)\n",
    "disgust_abs_10 = feature_df.sort_values('Disgust', ascending=False).head(10)"
   ]
  },
  {
   "cell_type": "code",
   "execution_count": null,
   "id": "4618065f",
   "metadata": {},
   "outputs": [],
   "source": [
    "joy_abs_10.plot(x=\"feature_names\", y=[\"Joy\", \"Sadness\", \"Anger\",\"Disgust\",\"Guilt\"], kind=\"bar\")\n",
    "plt.ylabel('absolute coefficients')\n",
    "plt.title('Top 10 joy class Features Comparing to Other Classes')\n",
    "# print_top10(tfvec_p, best_lr, [0,1,2])"
   ]
  },
  {
   "cell_type": "code",
   "execution_count": null,
   "id": "66c84db6",
   "metadata": {},
   "outputs": [],
   "source": [
    "sadness_abs_10.plot(x=\"feature_names\", y=[\"Joy\", \"Sadness\", \"Anger\",\"Disgust\",\"Guilt\"], kind=\"bar\")\n",
    "plt.ylabel('absolute coefficients')\n",
    "plt.title('Top 10 sadness class Features Comparing to Other Classes')"
   ]
  },
  {
   "cell_type": "code",
   "execution_count": null,
   "id": "bf9bfb71",
   "metadata": {},
   "outputs": [],
   "source": []
  }
 ],
 "metadata": {
  "kernelspec": {
   "display_name": "Python 3",
   "language": "python",
   "name": "python3"
  },
  "language_info": {
   "codemirror_mode": {
    "name": "ipython",
    "version": 3
   },
   "file_extension": ".py",
   "mimetype": "text/x-python",
   "name": "python",
   "nbconvert_exporter": "python",
   "pygments_lexer": "ipython3",
   "version": "3.8.10"
  }
 },
 "nbformat": 4,
 "nbformat_minor": 5
}
